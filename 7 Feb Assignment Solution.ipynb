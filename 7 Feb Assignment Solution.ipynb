{
 "cells": [
  {
   "cell_type": "markdown",
   "id": "f9e7ca1c-a815-4329-a0d8-2ec5d7dd0d74",
   "metadata": {},
   "source": [
    "Q1) You are writing code for a company. The requirement of the company is that you create a python function that will check whether the pasword entered by a user is correct or not. The function should take the password as an input and return the string \"Valid Password\" If entered password follows the below-given password guidelines else it should return \"Invalid Password\"\n"
   ]
  },
  {
   "cell_type": "markdown",
   "id": "99416750-3863-484a-ad76-3fbeefeb2c84",
   "metadata": {},
   "source": [
    "Note : 1) The password should contain at least two uppercase letters and at least two lowercase letters\n",
    "2) The password should contain at least a number and three special characters\n",
    "3) The length of the password should be 10 characters long\n"
   ]
  },
  {
   "cell_type": "code",
   "execution_count": 1,
   "id": "33ad5bd2-4e5d-4c55-9824-359f11ae9bba",
   "metadata": {},
   "outputs": [],
   "source": [
    "def CorrectPass(p):\n",
    "    lower = 0\n",
    "    upper = 0\n",
    "    length = len(a)\n",
    "    special = 0\n",
    "    number = 0\n",
    "    for i in a:\n",
    "        if (ord(i)>=48) & (ord(i)<=57):\n",
    "            number += 1\n",
    "        elif (ord(i)>=65) & (ord(i)<=90):\n",
    "            upper += 1\n",
    "        elif (ord(i)>=97) & (ord(i)<=122):\n",
    "            lower += 1\n",
    "        else:\n",
    "            special += 1\n",
    "    if (upper>=2) & (lower>=2) & (number>=1) & (special>=3) & (length>=10):\n",
    "        return \"Valid Password\"\n",
    "    else:\n",
    "        return \"Invalid Password\""
   ]
  },
  {
   "cell_type": "markdown",
   "id": "fd1ed20a-fea9-4a28-a220-a60c4a33de32",
   "metadata": {},
   "source": [
    "Q2) Solve the below-given questions using at least one of the following:\n",
    "1) Lambda Function\n",
    "2) Filter Function\n",
    "3) Map Function\n",
    "4) List Comprehension\n"
   ]
  },
  {
   "cell_type": "markdown",
   "id": "a314c7bf-61fe-4ca4-908b-d0335097ef60",
   "metadata": {},
   "source": [
    "Check if the string starts with a particular letter\n"
   ]
  },
  {
   "cell_type": "code",
   "execution_count": 2,
   "id": "8fcc4fbd-fe92-4884-bd08-0ec9b5109f19",
   "metadata": {},
   "outputs": [],
   "source": [
    "x = lambda s:(s[0]=='p') | (s[0]=='P')"
   ]
  },
  {
   "cell_type": "code",
   "execution_count": 3,
   "id": "423596dc-79a8-471b-bc28-5a2d66cb883a",
   "metadata": {},
   "outputs": [
    {
     "data": {
      "text/plain": [
       "True"
      ]
     },
     "execution_count": 3,
     "metadata": {},
     "output_type": "execute_result"
    }
   ],
   "source": [
    "x('pankaj')"
   ]
  },
  {
   "cell_type": "code",
   "execution_count": 4,
   "id": "3a59c4ed-96f6-488e-995c-2843449860ee",
   "metadata": {},
   "outputs": [
    {
     "data": {
      "text/plain": [
       "False"
      ]
     },
     "execution_count": 4,
     "metadata": {},
     "output_type": "execute_result"
    }
   ],
   "source": [
    "x('Aayush')"
   ]
  },
  {
   "cell_type": "code",
   "execution_count": 6,
   "id": "933fc337-0e48-4c95-a62d-9f94b0cf912c",
   "metadata": {},
   "outputs": [],
   "source": [
    "x = '123'\n",
    "Num = lambda x:x.isnumeric()"
   ]
  },
  {
   "cell_type": "code",
   "execution_count": 7,
   "id": "efb73ff8-3137-46a5-88a1-eb2cd35661a7",
   "metadata": {},
   "outputs": [
    {
     "data": {
      "text/plain": [
       "True"
      ]
     },
     "execution_count": 7,
     "metadata": {},
     "output_type": "execute_result"
    }
   ],
   "source": [
    "Num(x)"
   ]
  },
  {
   "cell_type": "markdown",
   "id": "07e71c7f-9d0b-4b1c-82e2-a860053c8d46",
   "metadata": {},
   "source": [
    "Sort a list of tuples having fruit names and their quantity [(\"Mango\",99),(\"orange\",80)(\"grapes\",1000)]"
   ]
  },
  {
   "cell_type": "code",
   "execution_count": 9,
   "id": "d80fd748-9b3d-45f4-a6bd-9e9cde61a6fd",
   "metadata": {},
   "outputs": [],
   "source": [
    "li = [(\"Mango\",99),(\"orange\",80),(\"grapes\",1000)]\n",
    "li.sort(key = lambda x:x[1])"
   ]
  },
  {
   "cell_type": "code",
   "execution_count": 10,
   "id": "b78dfa43-468f-4c61-8690-d01d25563355",
   "metadata": {},
   "outputs": [
    {
     "data": {
      "text/plain": [
       "[('orange', 80), ('Mango', 99), ('grapes', 1000)]"
      ]
     },
     "execution_count": 10,
     "metadata": {},
     "output_type": "execute_result"
    }
   ],
   "source": [
    "li"
   ]
  },
  {
   "cell_type": "markdown",
   "id": "8a5edbf1-a470-433b-963e-2eac82b9b4c6",
   "metadata": {},
   "source": [
    "Q4) Find the square of numbers from 1 to 10\n"
   ]
  },
  {
   "cell_type": "code",
   "execution_count": 11,
   "id": "86460dc3-8b4c-4902-b26c-4662fbce51ab",
   "metadata": {},
   "outputs": [
    {
     "name": "stdout",
     "output_type": "stream",
     "text": [
      "1 4 9 16 25 36 49 64 81 100 "
     ]
    }
   ],
   "source": [
    "num =1\n",
    "while num<=10:\n",
    "    print(num**2,end=' ')\n",
    "    num += 1\n",
    "    "
   ]
  },
  {
   "cell_type": "markdown",
   "id": "5639381c-f810-4a6f-b4d4-aa5067985cbe",
   "metadata": {},
   "source": [
    "Q5) Find the cube root of numbers from 1 to 10\n"
   ]
  },
  {
   "cell_type": "code",
   "execution_count": 13,
   "id": "57a50697-20ce-4084-8d01-1d5c349b4d18",
   "metadata": {},
   "outputs": [
    {
     "name": "stdout",
     "output_type": "stream",
     "text": [
      "1.0 1.2599210498948732 1.4422495703074083 1.5874010519681994 1.7099759466766968 1.8171205928321397 1.912931182772389 2.0 2.080083823051904 2.154434690031884 "
     ]
    }
   ],
   "source": [
    "num = 1\n",
    "while num <= 10:\n",
    "    print(num**(1./3),end =' ')\n",
    "    num += 1"
   ]
  },
  {
   "cell_type": "markdown",
   "id": "74b9ada4-4ef2-4c81-89b4-8f9f68dd44e1",
   "metadata": {},
   "source": [
    "Q6) Check if a given number is even\n"
   ]
  },
  {
   "cell_type": "code",
   "execution_count": 14,
   "id": "87091ee6-fd81-4a81-b327-377d3c108f96",
   "metadata": {},
   "outputs": [],
   "source": [
    "def checkEven(num):\n",
    "    return num%2==0"
   ]
  },
  {
   "cell_type": "code",
   "execution_count": 15,
   "id": "81870653-e561-4b90-b990-da1a5d1ffd84",
   "metadata": {},
   "outputs": [
    {
     "data": {
      "text/plain": [
       "True"
      ]
     },
     "execution_count": 15,
     "metadata": {},
     "output_type": "execute_result"
    }
   ],
   "source": [
    "checkEven(2)"
   ]
  },
  {
   "cell_type": "markdown",
   "id": "2bf7ac96-c9ff-4298-a065-7e6941a6cef7",
   "metadata": {},
   "source": [
    "Q7) Filter odd numbers from the given list"
   ]
  },
  {
   "cell_type": "code",
   "execution_count": 17,
   "id": "7382be7a-85bb-4794-bb85-61687741a519",
   "metadata": {},
   "outputs": [
    {
     "data": {
      "text/plain": [
       "[1, 3, 5, 7, 9]"
      ]
     },
     "execution_count": 17,
     "metadata": {},
     "output_type": "execute_result"
    }
   ],
   "source": [
    "l = [1,2,3,4,5,6,7,8,9,10]\n",
    "list(filter(lambda x:x%2 !=0 , l))"
   ]
  },
  {
   "cell_type": "markdown",
   "id": "4946a9b1-8031-4ae4-8cef-860781b16759",
   "metadata": {},
   "source": [
    "Q8) Sort a list of integers into positive and negative integers list"
   ]
  },
  {
   "cell_type": "code",
   "execution_count": 18,
   "id": "ed34d305-a328-45ba-89f1-92d361cf785f",
   "metadata": {},
   "outputs": [],
   "source": [
    "l = [1,2,3,4,5,6,-1,-2,-3,-5,0]"
   ]
  },
  {
   "cell_type": "code",
   "execution_count": 22,
   "id": "d5819e20-119d-4a90-97ab-60d0ab7a2406",
   "metadata": {},
   "outputs": [
    {
     "name": "stdout",
     "output_type": "stream",
     "text": [
      "[1, 2, 3, 4, 5, 6] [-1, -2, -3, -5]\n"
     ]
    }
   ],
   "source": [
    "l1 = list(filter(lambda x:x>0,l))\n",
    "l2 = list(filter(lambda x:x<0,l))\n",
    "print(l1,l2)\n"
   ]
  },
  {
   "cell_type": "code",
   "execution_count": null,
   "id": "0c810452-1d25-46c1-899f-3a0825e03411",
   "metadata": {},
   "outputs": [],
   "source": []
  }
 ],
 "metadata": {
  "kernelspec": {
   "display_name": "Python 3 (ipykernel)",
   "language": "python",
   "name": "python3"
  },
  "language_info": {
   "codemirror_mode": {
    "name": "ipython",
    "version": 3
   },
   "file_extension": ".py",
   "mimetype": "text/x-python",
   "name": "python",
   "nbconvert_exporter": "python",
   "pygments_lexer": "ipython3",
   "version": "3.10.8"
  }
 },
 "nbformat": 4,
 "nbformat_minor": 5
}
