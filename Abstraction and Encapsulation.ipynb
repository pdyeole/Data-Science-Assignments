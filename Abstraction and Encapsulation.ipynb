{
 "cells": [
  {
   "cell_type": "markdown",
   "id": "5166aad8-7161-4c4e-b929-d627096c24c5",
   "metadata": {},
   "source": [
    "What is Abstraction in OOPS? Explain with an example"
   ]
  },
  {
   "cell_type": "markdown",
   "id": "fae84b8c-b852-4da8-90e7-192fd2d02110",
   "metadata": {},
   "source": [
    "Abstraction is the way to use functionality by hiding underlining complexity. \n",
    "Like car is total abstraction of mechanical phenemenon, you really don't need to study mechanics behind the car to drive it"
   ]
  },
  {
   "cell_type": "markdown",
   "id": "f394579e-558a-484d-a6fe-bd9fcb646fd0",
   "metadata": {},
   "source": [
    "Q2) Differentiate between Abstraction and Encapsulation. Explain with an example\n"
   ]
  },
  {
   "cell_type": "markdown",
   "id": "76c39445-1a9c-4bed-99f5-3176d942568b",
   "metadata": {},
   "source": [
    "Abstraction : It gives permission to make a complex logic without caring underlying code. \n",
    "While encapsulation provides a way to implement abstraction"
   ]
  },
  {
   "cell_type": "markdown",
   "id": "9c7df381-d63a-4be7-a526-e261ee601434",
   "metadata": {},
   "source": [
    "Q3) What is abc module in python? Why is it used? "
   ]
  },
  {
   "cell_type": "markdown",
   "id": "65cb8c82-b499-45df-bba1-1260e701c9bf",
   "metadata": {},
   "source": [
    "from abc import ABC,abstractmethod\n",
    " ABC stands for Abstract Base Class.abc module can be imported by the way shown above. It is used to make abstact classes."
   ]
  },
  {
   "cell_type": "markdown",
   "id": "d0bf8adf-0319-4f8a-b62e-547348e634b8",
   "metadata": {},
   "source": [
    "Q4) How can we achieve data abstraction? \n",
    "Abstraction can be achieved by using abstract methods"
   ]
  },
  {
   "cell_type": "code",
   "execution_count": null,
   "id": "8bc1ba73-03df-4b42-a6fa-0ab89c510f0d",
   "metadata": {},
   "outputs": [],
   "source": [
    "Q5) Can we create an instance of an abstract class? Explain your answer."
   ]
  }
 ],
 "metadata": {
  "kernelspec": {
   "display_name": "Python 3 (ipykernel)",
   "language": "python",
   "name": "python3"
  },
  "language_info": {
   "codemirror_mode": {
    "name": "ipython",
    "version": 3
   },
   "file_extension": ".py",
   "mimetype": "text/x-python",
   "name": "python",
   "nbconvert_exporter": "python",
   "pygments_lexer": "ipython3",
   "version": "3.10.8"
  }
 },
 "nbformat": 4,
 "nbformat_minor": 5
}
