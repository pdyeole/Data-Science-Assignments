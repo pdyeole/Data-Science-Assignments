{
 "cells": [
  {
   "cell_type": "markdown",
   "id": "69b3cbd4-1ac2-497b-95ef-064b653c3743",
   "metadata": {},
   "source": [
    "Q1) What is an exception in python? What is the difference between Exception and Syntax Errors"
   ]
  },
  {
   "cell_type": "markdown",
   "id": "b7a39fc7-55e8-47b3-88ee-42f85f2ac24b",
   "metadata": {},
   "source": [
    "An exception is a type of error which occurs when syntactically correct code raises an  error. Syntax error occurs when the code is syntactically wrong"
   ]
  },
  {
   "cell_type": "markdown",
   "id": "072060fb-0500-4a65-829b-b7f0ea8df21c",
   "metadata": {},
   "source": [
    "Q2) What happens when an exception is not handled ? Explain with an example"
   ]
  },
  {
   "cell_type": "code",
   "execution_count": 1,
   "id": "1cd5fa00-a4d2-4498-9e98-5d9240521c87",
   "metadata": {},
   "outputs": [
    {
     "name": "stdout",
     "output_type": "stream",
     "text": [
      "Finally block is still getting executed\n"
     ]
    },
    {
     "ename": "ZeroDivisionError",
     "evalue": "division by zero",
     "output_type": "error",
     "traceback": [
      "\u001b[0;31m---------------------------------------------------------------------------\u001b[0m",
      "\u001b[0;31mZeroDivisionError\u001b[0m                         Traceback (most recent call last)",
      "Cell \u001b[0;32mIn[1], line 3\u001b[0m\n\u001b[1;32m      1\u001b[0m \u001b[38;5;28;01mtry\u001b[39;00m:\n\u001b[1;32m      2\u001b[0m     a \u001b[38;5;241m=\u001b[39m \u001b[38;5;241m1\u001b[39m\n\u001b[0;32m----> 3\u001b[0m     a \u001b[38;5;241m/\u001b[39m\u001b[38;5;241m=\u001b[39m \u001b[38;5;241m0\u001b[39m\n\u001b[1;32m      4\u001b[0m \u001b[38;5;28;01mfinally\u001b[39;00m:\n\u001b[1;32m      5\u001b[0m     \u001b[38;5;28mprint\u001b[39m(\u001b[38;5;124m\"\u001b[39m\u001b[38;5;124mFinally block is still getting executed\u001b[39m\u001b[38;5;124m\"\u001b[39m)\n",
      "\u001b[0;31mZeroDivisionError\u001b[0m: division by zero"
     ]
    }
   ],
   "source": [
    "try:\n",
    "    a = 1\n",
    "    a /= 0\n",
    "finally:\n",
    "    print(\"Finally block is still getting executed\")"
   ]
  },
  {
   "cell_type": "markdown",
   "id": "6b997a8c-b80b-483f-9db4-8f4f79cfa0b6",
   "metadata": {},
   "source": [
    "Thus an exception is still raised even after the finally block"
   ]
  },
  {
   "cell_type": "markdown",
   "id": "1e45195c-0711-401e-a27b-4cbae50121df",
   "metadata": {},
   "source": [
    "Q3) Which python statements are used to catch and handle exception? Explain with an example\n",
    "a. try and else\n",
    "b. finally\n",
    "c. raise\n"
   ]
  },
  {
   "cell_type": "markdown",
   "id": "6b94bf8b-6fc7-4e26-a475-4ab029077379",
   "metadata": {},
   "source": [
    "else -> It is executed if there is no exception\n",
    "finally : This code is always executed no matter exception is raised or not\n",
    "raise : raise keyword is used to raise an exception"
   ]
  },
  {
   "cell_type": "code",
   "execution_count": 3,
   "id": "3d85ed9a-3a18-4fb7-b6d9-bb370decaf8c",
   "metadata": {},
   "outputs": [
    {
     "name": "stdin",
     "output_type": "stream",
     "text": [
      "Enter the total number of family members -12\n"
     ]
    },
    {
     "name": "stdout",
     "output_type": "stream",
     "text": [
      "There are total -12 family members in the famliy\n",
      "Finally block is always executed\n"
     ]
    }
   ],
   "source": [
    "class validateFamilyClass(Exception):\n",
    "    def __init__(self,msg):\n",
    "        self.msg = msg\n",
    "\n",
    "def validateFamilyClassdef(members):\n",
    "    if members>4:\n",
    "        raise validateFamilyClass(\"More number of family members\")\n",
    "    elif members<2:\n",
    "        raise validateFamilyClass(\"Less no of members\")\n",
    "    elif members<0:\n",
    "        raise va\n",
    "\n",
    "try:\n",
    "    members = int(input(\"Enter the total number of family members\"))\n",
    "except validateFamilyClass as e:\n",
    "    print(e)\n",
    "else:\n",
    "    print(\"There are total {} family members in the famliy\".format(members))\n",
    "finally:\n",
    "    print(\"Finally block is always executed\")"
   ]
  },
  {
   "cell_type": "markdown",
   "id": "2560e5a1-428a-4fcf-bf2c-398614d7f24c",
   "metadata": {},
   "source": [
    "Q5) What are custom Exceptions in python? Why do we need custom Exceptions? Explain with an example"
   ]
  },
  {
   "cell_type": "markdown",
   "id": "1bb30e3a-b678-435a-be51-92f6531399b9",
   "metadata": {},
   "source": [
    "Custom Exception classes are also the classes which are subclasses of Exception class. They are used to handle custom exceptions in order to apply some conditions"
   ]
  },
  {
   "cell_type": "markdown",
   "id": "9e943a0e-8cda-4adb-9a0c-bbabeba7fde7",
   "metadata": {},
   "source": [
    "Q6) Create a custom exception class.Use this class to handle an exception"
   ]
  },
  {
   "cell_type": "code",
   "execution_count": 1,
   "id": "de51019f-2785-4ab9-b356-3f06d42939d1",
   "metadata": {},
   "outputs": [
    {
     "name": "stdin",
     "output_type": "stream",
     "text": [
      "Enter your age  9\n"
     ]
    }
   ],
   "source": [
    "class customException(Exception):\n",
    "    pass\n",
    "def raisingException(age):\n",
    "    if age<18:\n",
    "        raise customException\n",
    "try:\n",
    "    age = int(input(\"Enter your age \"))\n",
    "except customException as e:\n",
    "    print(\"Age is less than 18\")"
   ]
  },
  {
   "cell_type": "code",
   "execution_count": null,
   "id": "34e280be-104c-4279-9035-4d0e3bd8c474",
   "metadata": {},
   "outputs": [],
   "source": []
  }
 ],
 "metadata": {
  "kernelspec": {
   "display_name": "Python 3 (ipykernel)",
   "language": "python",
   "name": "python3"
  },
  "language_info": {
   "codemirror_mode": {
    "name": "ipython",
    "version": 3
   },
   "file_extension": ".py",
   "mimetype": "text/x-python",
   "name": "python",
   "nbconvert_exporter": "python",
   "pygments_lexer": "ipython3",
   "version": "3.10.8"
  }
 },
 "nbformat": 4,
 "nbformat_minor": 5
}
