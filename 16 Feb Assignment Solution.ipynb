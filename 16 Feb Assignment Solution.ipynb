{
 "cells": [
  {
   "cell_type": "markdown",
   "id": "4bafa66d-19d4-4b78-ba44-8b8d5846ff9a",
   "metadata": {},
   "source": [
    "Q1) What is a database? Differentiate between SQL and NoSQL databses"
   ]
  },
  {
   "cell_type": "code",
   "execution_count": null,
   "id": "de32165f-47fe-42ea-99a4-9820b3f4c670",
   "metadata": {},
   "outputs": [],
   "source": []
  },
  {
   "cell_type": "markdown",
   "id": "495a1182-194a-49db-91ed-dd401f0ca2f7",
   "metadata": {},
   "source": [
    "A database is an organized collection of data that is stored electronically.\n",
    "SQL databases are relational and NoSQL databases are non-relational\n",
    "SQL databases use structured-query langauge and have a prefered schema. NOSQL databases have dynamic schemas for unstructured data.\n",
    "SQL databases are vertically scalable and NoSQL databases are horizontally scalable\n",
    "SQL databases are table-based while NoSQL databases are document, key-value, graph or wide column stores\n",
    "SQL databases are better for multirow transactions while NoSQL is better for unstructued data like document or JSON\n"
   ]
  },
  {
   "cell_type": "markdown",
   "id": "2cf4dc7a-9171-4d61-93f4-412f48522b2a",
   "metadata": {},
   "source": [
    "Q2. What is DDL? Explain why CREATE, DROP, ALTER, and TRUNCATE are used with an example."
   ]
  },
  {
   "cell_type": "markdown",
   "id": "a1369e4e-142f-4927-84db-14bd602fcec4",
   "metadata": {},
   "source": [
    "Data Definition Language (DDL) is a subset of SQL and a part of DBMS. DDL consists of commands like create, alter, truncate and drop. These commands are used to create or modify the table in SQL.\n",
    "\n",
    "1) CREATE : This command is used to create a new table in SQL. The user has to give information like table name,columnn names and their datatypes\n",
    "CREATE TABLE table_name(\n",
    "column1 datatype,\n",
    "column2 datatype,\n",
    "column3 datatype\n",
    "..........\n",
    ");\n",
    "\n",
    "\n",
    "2) ALTER: This command is used to add,delete or change columns in the existing table. The user need to know the existing table name and can do the add,delete and modify tasks\n",
    "Syntax to add columns to an existing table:\n",
    "ALTER TABLE table_name\n",
    "ADD column_name datatype\n",
    "\n",
    "\n",
    "3) TRUNCATE : This command is used to remove all rows from the table, but the structure of the table still exists\n",
    "TRUNCATE table table_name\n",
    "\n",
    "\n",
    "4)DROP \n",
    "This command is used to remove table along with its structure from the database.\n",
    "DROP table table_name\n",
    "\n"
   ]
  },
  {
   "cell_type": "markdown",
   "id": "16a5f040-8749-4e2b-9cec-72bb4c0b2d1b",
   "metadata": {},
   "source": [
    "Q3) What is DML? Explain INSERT, UPDATE and DELETE with an example\n"
   ]
  },
  {
   "cell_type": "code",
   "execution_count": null,
   "id": "19d277b6-4011-4071-99ef-ee73714446f0",
   "metadata": {},
   "outputs": [],
   "source": []
  },
  {
   "cell_type": "markdown",
   "id": "9307b3cb-05cb-4290-bb07-e1a8b30394fe",
   "metadata": {},
   "source": [
    "DBMS provides a framework of functions to modify or alter the data called Data Manipulation Language.\n",
    "Data manipulation introducing data into tables , altering the table's data and deleting the data from the table.\n",
    "INSERT -> This command is used to insert the information in to a row.\n",
    "Insert INTO <table_name> ('column_name1' <datatype>, )\n",
    "    VALUES('','')\n",
    "    \n",
    "UPDATE : This command is used to alter existing table records. Withing a table, it modifies data from one or more records. This command is used to alter the data which is already present in table.\n",
    "    UPDATE <table_name>\n",
    "    SET \n",
    "    WHERE\n",
    "\n",
    "    \n",
    "DELETE : It deletes all archieves from a table, This command is used to erase some or all of the previous table's record. If we do not specify 'WHERE' condition then all rows would be erased or deleted."
   ]
  },
  {
   "cell_type": "markdown",
   "id": "6dba2039-cce6-4475-bdaf-01c5f5db2543",
   "metadata": {},
   "source": [
    "Q4. What is DQL? Explain SELECT with an example."
   ]
  },
  {
   "cell_type": "markdown",
   "id": "d8e6532a-ec82-44e3-9123-6d1431aaf684",
   "metadata": {},
   "source": [
    "Query languages often known as DQLs or data query languages are computer languages that are used to make various queries in information system and databases. The structured query language is a well known example. DQL statements are used to query the data contained in schema objects. The primary goal of the DQL statement is to return a schema relation depending on the query supplied to it. The DQL statements can be used in order to query the data and information contained in schema objects. The goal of DQL commands is to return a schema relation on the basis of the query supplied to them.\n",
    "DQL is a portion of a SQL statement that allows you to get and organise data from a database. One can use select command to extract the data from a databse in order to perform actions on it.\n",
    "SELECT Column_name FROM table_name WHERE condition"
   ]
  },
  {
   "cell_type": "markdown",
   "id": "adbe19cf-28b5-422b-a724-f7a16795bfeb",
   "metadata": {},
   "source": [
    "Q5. Explain Primary Key and Foreign Key."
   ]
  },
  {
   "cell_type": "markdown",
   "id": "eb057c40-0ea3-4b72-8cfc-d377053bac5f",
   "metadata": {},
   "source": [
    "The key differences between the primary key and foreign key is that, the primary key is about uniquely identifying records within a table, while the foreign key establishes relationships between tables and enables the linking of data across multiple tables."
   ]
  },
  {
   "cell_type": "markdown",
   "id": "b78d09d3-aa5c-42d3-abc8-1256dbb22a4f",
   "metadata": {},
   "source": [
    "Q6. Write a python code to connect MySQL to python. Explain the cursor() and execute() method."
   ]
  },
  {
   "cell_type": "markdown",
   "id": "1516283c-fcb4-43e5-993e-ba417d5d5978",
   "metadata": {},
   "source": [
    "import mysql.connection\n",
    "mydb = mysql.connection.connect(host = 'localhost',user='abc',password='password')\n",
    "mycursor = mydb.cursor()"
   ]
  },
  {
   "cell_type": "markdown",
   "id": "439014e5-6e13-4bf1-b535-7642869ae745",
   "metadata": {},
   "source": [
    "A cursor is an object which helps to execute the query and fetch the record from the database. The execute method helps to execute the query and return records according to the query."
   ]
  },
  {
   "cell_type": "markdown",
   "id": "73b4dfea-f259-4f57-8b96-146dc28c3d3a",
   "metadata": {},
   "source": [
    "Q7. Give the order of execution of SQL clauses in an SQL query."
   ]
  },
  {
   "cell_type": "markdown",
   "id": "67f2d9c6-b843-4c53-9824-0eb1fe10f2af",
   "metadata": {},
   "source": [
    "SQL queries are used to access a set of records present in our database tables. SQL queries are made up of one or more clauses. A particular order must be followed to execute to obtain the correct results. This order of execution is known as SQL query execution order.\n"
   ]
  },
  {
   "cell_type": "markdown",
   "id": "079326ad-78ce-4d40-96b2-d55b8e2bb154",
   "metadata": {},
   "source": [
    "SQL order of operation , so that the data we are looking for is retrieved in the most optimized way and takes the least execution time possible. SQL query execution order means optimizing our search results from the databse where query clauses are evaluated according to the requirements.\n",
    "SQL query execution order means optimizing our search results from the database or where the query clauses are evvaluated accordding to the requirements "
   ]
  }
 ],
 "metadata": {
  "kernelspec": {
   "display_name": "Python 3 (ipykernel)",
   "language": "python",
   "name": "python3"
  },
  "language_info": {
   "codemirror_mode": {
    "name": "ipython",
    "version": 3
   },
   "file_extension": ".py",
   "mimetype": "text/x-python",
   "name": "python",
   "nbconvert_exporter": "python",
   "pygments_lexer": "ipython3",
   "version": "3.10.8"
  }
 },
 "nbformat": 4,
 "nbformat_minor": 5
}
