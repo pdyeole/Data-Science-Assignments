{
 "cells": [
  {
   "cell_type": "markdown",
   "id": "4bde3edd-bb8b-4734-820d-fa885aad6def",
   "metadata": {},
   "source": [
    "Q1) \n",
    "Create a python function to sort the given list of tuples based on integer values using a lambda function"
   ]
  },
  {
   "cell_type": "code",
   "execution_count": 1,
   "id": "af9107a3-acfa-4ff3-8b9b-132d76300591",
   "metadata": {},
   "outputs": [],
   "source": [
    "l1 = [('Sachin Tendulkar',34357),('Ricky Ponting',27483),('Jack Kallis',25534),('Virat Kohli',24936)]"
   ]
  },
  {
   "cell_type": "code",
   "execution_count": 9,
   "id": "05e78c6b-b30a-4883-9b73-9e0b8a1d1648",
   "metadata": {},
   "outputs": [
    {
     "data": {
      "text/plain": [
       "[('Virat Kohli', 24936),\n",
       " ('Jack Kallis', 25534),\n",
       " ('Ricky Ponting', 27483),\n",
       " ('Sachin Tendulkar', 34357)]"
      ]
     },
     "execution_count": 9,
     "metadata": {},
     "output_type": "execute_result"
    }
   ],
   "source": [
    "l1.sort(key=lambda x:x[1],reverse = False)\n",
    "l1    "
   ]
  },
  {
   "cell_type": "markdown",
   "id": "91c6d246-c50f-4e56-846e-fb193c0f3117",
   "metadata": {},
   "source": [
    "Q2)Write a python program to find the squares of all the numbers in the given list of integers using lammbda and map function"
   ]
  },
  {
   "cell_type": "code",
   "execution_count": 10,
   "id": "b358cfe8-c57f-49ea-bcc5-aa63087cd8ca",
   "metadata": {},
   "outputs": [
    {
     "data": {
      "text/plain": [
       "[1, 4, 9, 16, 25, 36, 49, 64, 81, 100]"
      ]
     },
     "execution_count": 10,
     "metadata": {},
     "output_type": "execute_result"
    }
   ],
   "source": [
    "l1 = [1,2,3,4,5,6,7,8,9,10]\n",
    "list(map(lambda x:x**2,l1))\n"
   ]
  },
  {
   "cell_type": "markdown",
   "id": "109874d5-84f3-42f8-888c-161311fccfdb",
   "metadata": {},
   "source": [
    "Q3) Write a python program to convert the given list of integers into tuple of strings.Use map and lambda functions.\n"
   ]
  },
  {
   "cell_type": "code",
   "execution_count": 14,
   "id": "85b893fe-edb1-43b3-9256-4c26c6cdf760",
   "metadata": {},
   "outputs": [
    {
     "data": {
      "text/plain": [
       "('1', '2', '3', '4', '5', '6', '7', '8', '9', '10')"
      ]
     },
     "execution_count": 14,
     "metadata": {},
     "output_type": "execute_result"
    }
   ],
   "source": [
    "strList = [1,2,3,4,5,6,7,8,9,10]\n",
    "tuple(map(lambda x:str(x),strList))"
   ]
  },
  {
   "cell_type": "markdown",
   "id": "cc14f83b-57e0-4c7e-b5ea-b461e84d8708",
   "metadata": {},
   "source": [
    "Q4) Write a python program using reduce function to compute the product of a list containing numbers from 1 to 25"
   ]
  },
  {
   "cell_type": "code",
   "execution_count": 15,
   "id": "f08e2117-b4f4-447f-838c-6925eb26ae37",
   "metadata": {},
   "outputs": [],
   "source": [
    "l=[1,2,3,4,5,6,7,8,9,10,11,12,13,14,15,16,17,18,19,20,21,22,23,24,25]"
   ]
  },
  {
   "cell_type": "code",
   "execution_count": 16,
   "id": "2e53c1c7-01aa-4720-aae0-b9cb596feb7f",
   "metadata": {},
   "outputs": [
    {
     "data": {
      "text/plain": [
       "15511210043330985984000000"
      ]
     },
     "execution_count": 16,
     "metadata": {},
     "output_type": "execute_result"
    }
   ],
   "source": [
    "from functools import reduce\n",
    "reduce(lambda x,y:x*y,l)"
   ]
  },
  {
   "cell_type": "markdown",
   "id": "edaaa3fd-f048-4a08-96dd-82d899f57e80",
   "metadata": {},
   "source": [
    "Q5)Write a python program to filter the numbers in a given list that are divisible by 2 and 3 using the filter function"
   ]
  },
  {
   "cell_type": "code",
   "execution_count": 22,
   "id": "ede0ba2f-1d05-4bbe-8541-159967fe405c",
   "metadata": {},
   "outputs": [
    {
     "data": {
      "text/plain": [
       "[6, 60, 90, 120]"
      ]
     },
     "execution_count": 22,
     "metadata": {},
     "output_type": "execute_result"
    }
   ],
   "source": [
    "l1=[2,3,6,9,27,60,90,120,55,46]\n",
    "list(filter(lambda x:(x%2==0) & (x%3==0),l1))"
   ]
  },
  {
   "cell_type": "markdown",
   "id": "fa897da0-bc72-42d4-87b8-72f6f7dbefc2",
   "metadata": {},
   "source": [
    "Q6) Write a python function to find palindrome in the given list of string using lambda and filter function\n"
   ]
  },
  {
   "cell_type": "code",
   "execution_count": 23,
   "id": "85d5e950-8762-4421-b495-3cf3cab7e366",
   "metadata": {},
   "outputs": [],
   "source": [
    "l1 = ['python','php','aba','radar','level']\n"
   ]
  },
  {
   "cell_type": "code",
   "execution_count": 24,
   "id": "05d490e1-a265-4db3-95af-ee20ea0d592a",
   "metadata": {},
   "outputs": [
    {
     "data": {
      "text/plain": [
       "['php', 'aba', 'radar', 'level']"
      ]
     },
     "execution_count": 24,
     "metadata": {},
     "output_type": "execute_result"
    }
   ],
   "source": [
    "list(filter(lambda x:x[::]==x[::-1],l1))"
   ]
  },
  {
   "cell_type": "code",
   "execution_count": null,
   "id": "bebd08f4-e374-4eec-a152-98e216055af3",
   "metadata": {},
   "outputs": [],
   "source": []
  }
 ],
 "metadata": {
  "kernelspec": {
   "display_name": "Python 3 (ipykernel)",
   "language": "python",
   "name": "python3"
  },
  "language_info": {
   "codemirror_mode": {
    "name": "ipython",
    "version": 3
   },
   "file_extension": ".py",
   "mimetype": "text/x-python",
   "name": "python",
   "nbconvert_exporter": "python",
   "pygments_lexer": "ipython3",
   "version": "3.10.8"
  }
 },
 "nbformat": 4,
 "nbformat_minor": 5
}
