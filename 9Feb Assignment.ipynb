{
 "cells": [
  {
   "cell_type": "markdown",
   "id": "efd1520b-9d7e-4721-bc8c-b5171093dda9",
   "metadata": {},
   "source": [
    "Q1) Create a vehicle class with an init method having instance variables as name_of_vehicle, max_speed and average_of_vehicle."
   ]
  },
  {
   "cell_type": "code",
   "execution_count": 3,
   "id": "b963f195-fbcc-4681-a1f5-c0a27886aba2",
   "metadata": {},
   "outputs": [],
   "source": [
    "class vehicle:\n",
    "    def __init__(self,name_of_variable,max_speed,average_of_vehicle):\n",
    "        self.name_of_variable = name_of_variable\n",
    "        self.max_speed = max_speed\n",
    "        self.average_of_vehicle = average_of_vehicle\n",
    "\n",
    "        "
   ]
  },
  {
   "cell_type": "markdown",
   "id": "652efacb-f74b-4602-b97f-c20c550d57a2",
   "metadata": {},
   "source": [
    "Q2) Create a child class car from vehicle created in ques 1) , which will inherit the vehicle class.Create a method named seating_capacity which takes capacity as an argument and returns the name of vehicle and its seating capacity\n"
   ]
  },
  {
   "cell_type": "code",
   "execution_count": 4,
   "id": "67a66490-9348-4c45-b828-9bce9e34ba32",
   "metadata": {},
   "outputs": [],
   "source": [
    "class car(vehicle):\n",
    "    def seating_capacity(self,capacity):\n",
    "        return self.name_of_variable,self.capacity"
   ]
  },
  {
   "cell_type": "markdown",
   "id": "f5407c49-4eb5-4cce-b262-792d23420dd9",
   "metadata": {},
   "source": [
    "Q3) What is multiple inheritance? Write a python code to demonstrate multiple inheritance"
   ]
  },
  {
   "cell_type": "markdown",
   "id": "8dc35d0b-ed2d-4358-9e0e-813b8014f870",
   "metadata": {},
   "source": [
    "When properties of two or more classes are inherited in the child class then it is called as a multiple inheritance"
   ]
  },
  {
   "cell_type": "code",
   "execution_count": 22,
   "id": "db85e578-3d94-4608-84ae-989344db0a44",
   "metadata": {},
   "outputs": [],
   "source": [
    "class district():\n",
    "    def districtName(self):\n",
    "        print(\"Mumbai\")\n",
    "class State():\n",
    "    def stateName(self):\n",
    "        print(\"Maharashtra\")\n",
    "    \n",
    "    \n",
    "class child(district,State):\n",
    "      def returnDistrictState(self):\n",
    "            self.districtName()\n",
    "            self.stateName()\n",
    "        "
   ]
  },
  {
   "cell_type": "code",
   "execution_count": 23,
   "id": "1e78c028-b749-439e-a1b4-caf1f78a3f28",
   "metadata": {},
   "outputs": [
    {
     "name": "stdout",
     "output_type": "stream",
     "text": [
      "Mumbai\n",
      "Maharashtra\n"
     ]
    }
   ],
   "source": [
    "C= child()\n",
    "C.returnDistrictState()"
   ]
  },
  {
   "cell_type": "markdown",
   "id": "21e002df-f8e2-4c51-bd61-9fdee6a1653c",
   "metadata": {},
   "source": [
    "Q4) What are getter and setter in python? Create a class and create a getter and setter method in this class"
   ]
  },
  {
   "cell_type": "code",
   "execution_count": 25,
   "id": "b42781f8-4433-4e85-affc-bf220612ab09",
   "metadata": {},
   "outputs": [],
   "source": [
    "class student:\n",
    "    def __init__(self,name,roll_no,marks):\n",
    "        self.__name = name\n",
    "        self.__roll_no = roll_no\n",
    "        self.__marks = marks\n",
    "    def setName(self,name):\n",
    "        self.__name = name\n",
    "    def getMarks(self):\n",
    "        return self.__marks\n",
    "        "
   ]
  },
  {
   "cell_type": "code",
   "execution_count": 26,
   "id": "6ed088eb-5190-4a22-bb26-e2b507cbd5b0",
   "metadata": {},
   "outputs": [],
   "source": [
    "s1 = student(\"Pankaj\",1,100)"
   ]
  },
  {
   "cell_type": "code",
   "execution_count": 27,
   "id": "89b9cd7a-a19c-4407-a4f1-5c2892a274f0",
   "metadata": {},
   "outputs": [],
   "source": [
    "s1.setName(\"Rohan\") #Setter"
   ]
  },
  {
   "cell_type": "code",
   "execution_count": 28,
   "id": "9af04a86-7831-4687-afff-bbca44c67a07",
   "metadata": {},
   "outputs": [
    {
     "data": {
      "text/plain": [
       "100"
      ]
     },
     "execution_count": 28,
     "metadata": {},
     "output_type": "execute_result"
    }
   ],
   "source": [
    "s1.getMarks() #Getters"
   ]
  },
  {
   "cell_type": "markdown",
   "id": "89904cd0-8e8c-4c2d-a415-a66d94c7c296",
   "metadata": {},
   "source": [
    "Getters are used to access private attribute of the class whereas setters are used to set private variable of class"
   ]
  },
  {
   "cell_type": "markdown",
   "id": "2828d871-2bad-4d9a-99e4-b192f5785da8",
   "metadata": {},
   "source": [
    "Q5) What is a method overriding in python? Write a python code to demonstrate method overriding"
   ]
  },
  {
   "cell_type": "markdown",
   "id": "326298e3-99d0-4a29-ae62-674443a52d38",
   "metadata": {},
   "source": [
    "When method of parent classes are redefined in the child class then it is said to be overrided. "
   ]
  },
  {
   "cell_type": "code",
   "execution_count": 30,
   "id": "a74b8b58-ac9c-4c8b-ad80-ada04e00df15",
   "metadata": {},
   "outputs": [],
   "source": [
    "class parent:\n",
    "    def __init__(self):\n",
    "        self.location = \"InsideParent\"\n",
    "    def ShowLocation(self):\n",
    "        return self.location\n",
    "class child(parent):\n",
    "    def __init__(self):\n",
    "        self.location=\"InsideChild\"\n",
    "        \n",
    "    def ShowLocation(self):\n",
    "        return self.location"
   ]
  },
  {
   "cell_type": "code",
   "execution_count": 31,
   "id": "36a75bc0-9dc1-432a-bb77-9cae72ea8510",
   "metadata": {},
   "outputs": [],
   "source": [
    "c = child()"
   ]
  },
  {
   "cell_type": "code",
   "execution_count": 32,
   "id": "f21f6270-1024-4d22-b07b-bdc3a8490464",
   "metadata": {},
   "outputs": [
    {
     "data": {
      "text/plain": [
       "'InsideChild'"
      ]
     },
     "execution_count": 32,
     "metadata": {},
     "output_type": "execute_result"
    }
   ],
   "source": [
    "c.ShowLocation()"
   ]
  },
  {
   "cell_type": "code",
   "execution_count": null,
   "id": "7e35cfb0-edca-492a-9c85-29ce211bc957",
   "metadata": {},
   "outputs": [],
   "source": []
  }
 ],
 "metadata": {
  "kernelspec": {
   "display_name": "Python 3 (ipykernel)",
   "language": "python",
   "name": "python3"
  },
  "language_info": {
   "codemirror_mode": {
    "name": "ipython",
    "version": 3
   },
   "file_extension": ".py",
   "mimetype": "text/x-python",
   "name": "python",
   "nbconvert_exporter": "python",
   "pygments_lexer": "ipython3",
   "version": "3.10.8"
  }
 },
 "nbformat": 4,
 "nbformat_minor": 5
}
