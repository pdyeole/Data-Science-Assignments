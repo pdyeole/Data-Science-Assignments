{
 "cells": [
  {
   "cell_type": "markdown",
   "id": "37bdd1ad-85cd-4add-980d-8d1611830007",
   "metadata": {},
   "source": [
    "Q1) What is multithreading in python ? Why is it used? Name the module used to handle threads in python\n"
   ]
  },
  {
   "cell_type": "markdown",
   "id": "dd952778-8c96-4eea-8114-af27692d25d2",
   "metadata": {},
   "source": [
    "Multithreading in python is a technique that enables multiple tasks to be executed simultaneously. In simpler words, the ability of the processor to execute multiple threads to be executed simultaneously. Python multithreading facilitates sharing data space and resource of multiple threads with the main thread. It allows efficiency and easy communication between the threads."
   ]
  },
  {
   "cell_type": "markdown",
   "id": "56cb13d4-2247-4877-8ecc-aa75ac8e27cc",
   "metadata": {},
   "source": [
    "Q2) What threading module is used? Write the use of the following functions...\n",
    "1) activeCurrent()\n",
    "2) currentThread()\n",
    "3) enumerate()"
   ]
  },
  {
   "cell_type": "markdown",
   "id": "25d02b61-e1b8-4291-a8a9-bd045cbcbb2f",
   "metadata": {},
   "source": [
    "Threading module is used for creating , controlling and managing threads.\n",
    "1) activeCurrent() -> Returns the number of thread objects that are active\n",
    "2) enuerate() -> Returns a list of all currently active threads\n",
    "3) currentThread() -> Returns the number of thread objects in caller's thread control"
   ]
  },
  {
   "cell_type": "markdown",
   "id": "533ad7d6-68a6-41af-9e66-0b05b4db9f2d",
   "metadata": {},
   "source": [
    "Q3) Explain the following functions\n"
   ]
  },
  {
   "cell_type": "markdown",
   "id": "bffe3e9e-40f4-4387-b0c3-896f02c3695b",
   "metadata": {},
   "source": [
    "1) run() -> The run method executes any target function bellonging to given thread object that is now active. It normally executes in the background after the .start() function\n",
    "2) .start() -> .start() method activates and prompts a thread object to be run\n",
    "3) join() -> On invoking the join method, the calling thread gets blocked until the thread object (on which thread gets called) is terminated. The thread object can terminate in any one of the conditions:\n",
    " 3.1) Either normally\n",
    " 3.2) Through an ill handled exception\n",
    " 3.3) Till the optional timeout occurs\n",
    "\n",
    "\n",
    "4) isAlive() -> method returns true if thread is running otherwise false"
   ]
  },
  {
   "cell_type": "markdown",
   "id": "df107440-9f04-49a4-a341-706bd6c880ac",
   "metadata": {},
   "source": [
    "Q4) Write a python program to create two threads. Thread one must print list of squares and thread two must print list of cubes"
   ]
  },
  {
   "cell_type": "code",
   "execution_count": 1,
   "id": "44f27f04-a1cd-4e41-9c5c-da8e831ee711",
   "metadata": {},
   "outputs": [],
   "source": [
    "import threading\n",
    "\n",
    "def print_cubeList(num):\n",
    "    l =[]\n",
    "    for i in range(num):\n",
    "        l.append(i*i*i)\n",
    "    print(l)\n",
    "\n",
    "def print_squareList(num):\n",
    "    l = []\n",
    "    for i in range(num):\n",
    "        l.append(i*i)\n",
    "    print(l)\n",
    "\n",
    "    \n"
   ]
  },
  {
   "cell_type": "code",
   "execution_count": 2,
   "id": "15bb7ba0-56fb-4d7f-bcba-16a1a50f551f",
   "metadata": {},
   "outputs": [
    {
     "name": "stdout",
     "output_type": "stream",
     "text": [
      "[0, 1, 8, 27, 64, 125, 216, 343, 512, 729]\n",
      "[0, 1, 4, 9, 16, 25, 36, 49, 64, 81]\n"
     ]
    }
   ],
   "source": [
    "t1 = threading.Thread(target=print_cubeList, args=(10,))\n",
    "t2 = threading.Thread(target=print_squareList, args=(10,))\n",
    " \n",
    "t1.start()\n",
    "t2.start()\n",
    " \n",
    "t1.join()\n",
    "t2.join()"
   ]
  },
  {
   "cell_type": "markdown",
   "id": "f9671655-c1c7-4f5a-9d5c-296428f51a70",
   "metadata": {},
   "source": [
    "Q5) State adventages and disadvantages of multithrreading.\n"
   ]
  },
  {
   "cell_type": "markdown",
   "id": "1d44a738-409d-4516-8eab-d77ac7a4152d",
   "metadata": {},
   "source": [
    "Advantages : \n",
    "    Improved Performance : Multithreading can help increase overall performance of an application, especially on system with multiple processor or core,It allows multiple tasks to run concurrently, utilizing the available CPU resources more efficiently\n",
    "    \n",
    "Responsiveness : In a single threaded environment, if a long-running task blocks the main thread , the entire applications becomes unresponsive. Multithreading can prevent this issue by running such tasks in separate threads , ensuring that application remains responsive\n",
    "\n",
    "Better Resource Utilization : Multithreading allows better utilization of system resources by keeping CPU busy while waiting for I/O operations or other tasks to complete\n",
    "\n",
    "Simplified Modeling: Some problems can be more naturally modeled using multiple threads. This makes the program easier to design, understand and maintain\n",
    "\n",
    "Parallelism : Multithreading enables parallelism , which can lead to significant improvement in performance ."
   ]
  },
  {
   "cell_type": "markdown",
   "id": "995056db-d355-45e4-8986-d6286a6127ea",
   "metadata": {},
   "source": [
    "Disadvantages:\n",
    "Complexity : Multithreading adds more complexity to the program , making it more difficult to design, implement and debug. Developers need to be aware of synchronization , deadlocks , race conditions and concurrency related issues\n",
    "\n",
    "Synchronization Overhead: To avoid data corruption and maintain consistency , developers must synchronize access to shares resources , which can result in additional overhead and reduced performance.\n",
    "\n",
    "Context Switching: Context switching between threads consume CPU time and resources which can lead to the performance degradations if not managed efficiently\n",
    "\n",
    "Hard to predict behavior : Due to concurrent nature of multithreading the behavior of the program can be hard to predict and reproduce especially when it comes to debugging\n",
    "\n",
    "Limited by hardware: The performance benefit of multithreading are limited by number of available cores or processors in the system. In some cases, excessive uses of threads can lead to performance degradation instead of improvement."
   ]
  },
  {
   "cell_type": "markdown",
   "id": "d06ae2a2-aa61-4175-acea-430d128c60b6",
   "metadata": {},
   "source": [
    "Q6) Explain Deadlocks and race conditions\n"
   ]
  },
  {
   "cell_type": "markdown",
   "id": "62088698-bfe2-47c6-bbe7-5152ab61cb48",
   "metadata": {},
   "source": [
    "When two processes are competing with each other causing data corruptions is called as a race conditions\n",
    "While two p\n"
   ]
  }
 ],
 "metadata": {
  "kernelspec": {
   "display_name": "Python 3 (ipykernel)",
   "language": "python",
   "name": "python3"
  },
  "language_info": {
   "codemirror_mode": {
    "name": "ipython",
    "version": 3
   },
   "file_extension": ".py",
   "mimetype": "text/x-python",
   "name": "python",
   "nbconvert_exporter": "python",
   "pygments_lexer": "ipython3",
   "version": "3.10.8"
  }
 },
 "nbformat": 4,
 "nbformat_minor": 5
}
