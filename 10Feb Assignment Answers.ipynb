{
 "cells": [
  {
   "cell_type": "markdown",
   "id": "f92065cb-b219-4652-9276-9ef5f823d19a",
   "metadata": {},
   "source": [
    "Q1) Which function is used to open a file? What are different modes of opening a file? Explain each mode of file opening"
   ]
  },
  {
   "cell_type": "markdown",
   "id": "2f2f08a7-8618-4c35-ad41-ae18041f3dc1",
   "metadata": {},
   "source": [
    "open() function is used for opening a file ----------------------------------------------------------------------------------------------------------------------------------------------------------\n",
    "Different Modes of opening a file :\n",
    "r -> Read Mode -> Opens the file for reading. If the file doesn't exist, an error will be occurred\n",
    "w -> Write Mode -> Opens the file for writing. If file previous exists then it will be truncated. If the file does not exist then it will be created\n",
    "a -> append mode -> Opens the file for writing. Appends new data at the end of the file instead of overwriting existing data. If the file doesn't exist, it will be created\n",
    "+ -> update mode -> Opens the file both for reading and writing"
   ]
  },
  {
   "cell_type": "markdown",
   "id": "6cf81b5c-4928-4c6f-b030-da15613b69d8",
   "metadata": {},
   "source": [
    "Q2) Why close() function is used? Why is it important to close a file?"
   ]
  },
  {
   "cell_type": "markdown",
   "id": "aec0b502-e3e0-4dbf-81be-1ebd06cb1af2",
   "metadata": {},
   "source": [
    "close() method closes an open file , due to buffering changes made to a file may not show until you close the file"
   ]
  },
  {
   "cell_type": "markdown",
   "id": "ebf0dc5a-0165-4d87-afb9-49590e792ac1",
   "metadata": {},
   "source": [
    "Q3) Write a python program to create a text file.Write 'I want to become a data scientist' in that file.Then close the file.Open  this file and read the content of the file\n"
   ]
  },
  {
   "cell_type": "code",
   "execution_count": 3,
   "id": "53476348-d27e-4c1a-a129-212d4d10c736",
   "metadata": {},
   "outputs": [
    {
     "data": {
      "text/plain": [
       "'I want to become a data scientist'"
      ]
     },
     "execution_count": 3,
     "metadata": {},
     "output_type": "execute_result"
    }
   ],
   "source": [
    "f = open(\"exercise.txt\",'w')\n",
    "f.write(\"I want to become a data scientist\")\n",
    "f.close()\n",
    "f=open(\"exercise.txt\",\"r\")\n",
    "f.read()"
   ]
  },
  {
   "cell_type": "markdown",
   "id": "654da501-e61d-40e8-a326-158ab08c018a",
   "metadata": {},
   "source": [
    "Q4) Explain the following python code: read(), readline(), readlines()"
   ]
  },
  {
   "cell_type": "code",
   "execution_count": 4,
   "id": "a2727f0d-698f-47bb-9039-4edea15e3cfa",
   "metadata": {},
   "outputs": [],
   "source": [
    "f.close()"
   ]
  },
  {
   "cell_type": "code",
   "execution_count": 7,
   "id": "063c12d0-8b07-424e-9ba2-9960e96d0d35",
   "metadata": {},
   "outputs": [
    {
     "data": {
      "text/plain": [
       "99"
      ]
     },
     "execution_count": 7,
     "metadata": {},
     "output_type": "execute_result"
    }
   ],
   "source": [
    "f = open(\"exercise.txt\",\"a\")\n",
    "f.write(\"\\nPython is a great programming langugae.\\nIt equips programmer with great tools to  perform ML tasks\")"
   ]
  },
  {
   "cell_type": "code",
   "execution_count": 8,
   "id": "6b395bc9-3b0d-4f51-ac03-7eeb44b8cd4d",
   "metadata": {},
   "outputs": [],
   "source": [
    "f.close()"
   ]
  },
  {
   "cell_type": "code",
   "execution_count": 10,
   "id": "69a40cbe-29a7-4a86-b998-3025e69fa1d0",
   "metadata": {},
   "outputs": [],
   "source": [
    "with open(\"exercise.txt\",\"r\") as f:\n",
    "    data = f.read()"
   ]
  },
  {
   "cell_type": "code",
   "execution_count": 11,
   "id": "31617997-cb37-4afd-a888-182c0344afd3",
   "metadata": {},
   "outputs": [
    {
     "data": {
      "text/plain": [
       "'I want to become a data scientistPython is a great programming langugae.\\nIt equips programmer with great tools to  perform ML tasks\\nPython is a great programming langugae.\\nIt equips programmer with great tools to  perform ML tasks'"
      ]
     },
     "execution_count": 11,
     "metadata": {},
     "output_type": "execute_result"
    }
   ],
   "source": [
    "data"
   ]
  },
  {
   "cell_type": "markdown",
   "id": "1a35dc0f-d8bb-4256-b000-2f4b27807e9c",
   "metadata": {},
   "source": [
    "read() prints all the data from the file"
   ]
  },
  {
   "cell_type": "code",
   "execution_count": 12,
   "id": "568b8ed7-e62e-42d9-8b84-498ce6f693da",
   "metadata": {},
   "outputs": [],
   "source": [
    "with open(\"exercise.txt\",\"r\") as f:\n",
    "    data = f.readline()"
   ]
  },
  {
   "cell_type": "code",
   "execution_count": 13,
   "id": "7c3a1451-db04-405f-8b57-d21482152436",
   "metadata": {},
   "outputs": [
    {
     "data": {
      "text/plain": [
       "'I want to become a data scientistPython is a great programming langugae.\\n'"
      ]
     },
     "execution_count": 13,
     "metadata": {},
     "output_type": "execute_result"
    }
   ],
   "source": [
    "data"
   ]
  },
  {
   "cell_type": "markdown",
   "id": "0e475eaa-e7b7-4bf2-b3e5-5035824249ab",
   "metadata": {},
   "source": [
    "It reads data line by line"
   ]
  },
  {
   "cell_type": "code",
   "execution_count": 14,
   "id": "2024d86d-0f68-4fe0-bef7-32f3a4955c07",
   "metadata": {},
   "outputs": [],
   "source": [
    "with open(\"exercise.txt\",\"r\") as f:\n",
    "    data= f.readlines()"
   ]
  },
  {
   "cell_type": "code",
   "execution_count": 15,
   "id": "0f2f2291-7abb-4f8a-9739-8363f63c91dd",
   "metadata": {},
   "outputs": [
    {
     "data": {
      "text/plain": [
       "['I want to become a data scientistPython is a great programming langugae.\\n',\n",
       " 'It equips programmer with great tools to  perform ML tasks\\n',\n",
       " 'Python is a great programming langugae.\\n',\n",
       " 'It equips programmer with great tools to  perform ML tasks']"
      ]
     },
     "execution_count": 15,
     "metadata": {},
     "output_type": "execute_result"
    }
   ],
   "source": [
    "data"
   ]
  },
  {
   "cell_type": "markdown",
   "id": "28396726-da0c-45cc-9dd7-67dc8568e8b4",
   "metadata": {},
   "source": [
    "readlines() returns the list of statements from the file"
   ]
  },
  {
   "cell_type": "markdown",
   "id": "fbce6905-eaff-421e-b12b-56dcc94ec8ed",
   "metadata": {},
   "source": [
    "5) Explain why with statement is used with open(). What is advantages of using with statement and open() together"
   ]
  },
  {
   "cell_type": "markdown",
   "id": "e56c49c0-c2fc-47c8-8d55-b9bb027c86df",
   "metadata": {},
   "source": [
    "When only open() is used only without with, then one has to close the file separately. Whereas ,using with , it closes the file by itself."
   ]
  },
  {
   "cell_type": "markdown",
   "id": "de8eb57c-308f-4377-bc7d-9a98291a08ca",
   "metadata": {},
   "source": [
    "Q6) Explain the write() and writelines() function. Give suitable examples"
   ]
  },
  {
   "cell_type": "code",
   "execution_count": 16,
   "id": "795d225e-fd1b-4bad-a9b2-f5deaf8326eb",
   "metadata": {},
   "outputs": [],
   "source": [
    "with open(\"sample.txt\",\"w\") as f:\n",
    "    f.write(\"This is a way to write in a file\\n\")\n",
    "    f.writelines([\"This takes a list of strings\\n\",\"Then it writes it into the file one by one\\n\"])"
   ]
  },
  {
   "cell_type": "markdown",
   "id": "2dc3a0b1-9d75-4593-9960-ca552aa032b5",
   "metadata": {},
   "source": [
    "Thus write() mathod takes a string and writes into the file whereas writelines() writes whole list of lines."
   ]
  },
  {
   "cell_type": "code",
   "execution_count": null,
   "id": "4ef9d846-c7a2-4e04-a1dd-4e999b4d4106",
   "metadata": {},
   "outputs": [],
   "source": []
  }
 ],
 "metadata": {
  "kernelspec": {
   "display_name": "Python 3 (ipykernel)",
   "language": "python",
   "name": "python3"
  },
  "language_info": {
   "codemirror_mode": {
    "name": "ipython",
    "version": 3
   },
   "file_extension": ".py",
   "mimetype": "text/x-python",
   "name": "python",
   "nbconvert_exporter": "python",
   "pygments_lexer": "ipython3",
   "version": "3.10.8"
  }
 },
 "nbformat": 4,
 "nbformat_minor": 5
}
