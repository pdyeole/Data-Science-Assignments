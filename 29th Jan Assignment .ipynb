{
 "cells": [
  {
   "cell_type": "markdown",
   "id": "11a9bc89-78d2-46f0-93d0-ac5c3ff4e904",
   "metadata": {},
   "source": [
    "Q1) Who developed python programming language\n"
   ]
  },
  {
   "cell_type": "markdown",
   "id": "052f5ef8-d779-44fb-9f72-eb15f653f120",
   "metadata": {},
   "source": [
    "Guido Van Rossum was a dutch programmer who developed the python programming language"
   ]
  },
  {
   "cell_type": "markdown",
   "id": "238acd90-ebdc-4518-b7d8-50cda2727315",
   "metadata": {},
   "source": [
    "Q2) Which type of programming does python support?\n"
   ]
  },
  {
   "cell_type": "markdown",
   "id": "7427bf14-d581-4c13-99e0-e1764426ba6a",
   "metadata": {},
   "source": [
    "1) Object Oriented Programming\n",
    "2) Procedural Programming\n",
    "3) Modular Programming"
   ]
  },
  {
   "cell_type": "markdown",
   "id": "312bfc59-f46c-4cd4-935d-31da11413741",
   "metadata": {},
   "source": [
    "Q3) Is python case sensitive when dealing with identifiers"
   ]
  },
  {
   "cell_type": "markdown",
   "id": "8bdbb27d-ed28-4a6a-855a-c122cea32c33",
   "metadata": {},
   "source": [
    "Yes python is a case sensitive language"
   ]
  },
  {
   "cell_type": "markdown",
   "id": "f3f587a2-d9f5-4850-aee6-b90c0ac1b1e5",
   "metadata": {},
   "source": [
    "Q4) What is a correct extension of python file"
   ]
  },
  {
   "cell_type": "markdown",
   "id": "c6d1a6d3-87a7-442d-bcf6-607f959379b4",
   "metadata": {},
   "source": [
    ".py is an extension for the python file"
   ]
  },
  {
   "cell_type": "markdown",
   "id": "d1a5471a-e94e-45f2-bc4c-c87e7b6c29ff",
   "metadata": {},
   "source": [
    "Q5) Is python code compiled or interpreted language"
   ]
  },
  {
   "cell_type": "markdown",
   "id": "d43faa84-8df5-46c8-8161-512be9e3f7e5",
   "metadata": {},
   "source": [
    "Python is an interpreted language"
   ]
  },
  {
   "cell_type": "markdown",
   "id": "2fdeb218-cc36-4b54-8fae-37b748682454",
   "metadata": {},
   "source": [
    "Q6) Name a few blocks of code used to define in python language?\n"
   ]
  },
  {
   "cell_type": "markdown",
   "id": "b3cef2c7-9ae4-4e2c-a3b5-86054aa2dfb7",
   "metadata": {},
   "source": [
    "Class Definition\n",
    "Function Definition \n"
   ]
  },
  {
   "cell_type": "markdown",
   "id": "4949f25f-b3cd-4465-9b21-1ddbd75ee2c0",
   "metadata": {},
   "source": [
    "Q7) State a charater used to give a single line comment in python"
   ]
  },
  {
   "cell_type": "markdown",
   "id": "b9519a29-b159-4d57-b799-57f33dfdf61c",
   "metadata": {},
   "source": [
    "'#' is used to give a single line comment in python"
   ]
  },
  {
   "cell_type": "markdown",
   "id": "e3b44514-a6c2-4740-bc37-9aa2dffddb8d",
   "metadata": {},
   "source": [
    "Q8) Mention functions which can help us to find the version of python that we are currently working on?\n"
   ]
  },
  {
   "cell_type": "markdown",
   "id": "5149f9ac-90bd-4471-9a38-1a7b66ee9f50",
   "metadata": {},
   "source": [
    "import sys\n",
    "sys.version"
   ]
  },
  {
   "cell_type": "markdown",
   "id": "d9661bdc-63a0-4e94-ab93-611d4ee5437d",
   "metadata": {},
   "source": [
    "Q9) Python supports the creation of anonymous function at runtime , using a construct called"
   ]
  },
  {
   "cell_type": "markdown",
   "id": "d7971ad6-edd9-4b09-a6d2-186919ce35b0",
   "metadata": {},
   "source": [
    "lambda"
   ]
  },
  {
   "cell_type": "markdown",
   "id": "06df1d3e-cc43-4260-b19f-e59403ee62f6",
   "metadata": {},
   "source": [
    "Q10) What does pip stand for python ? "
   ]
  },
  {
   "cell_type": "markdown",
   "id": "e7dd1a37-03d0-4bfe-ae42-743a946540cc",
   "metadata": {},
   "source": [
    "PIP- Preferred Installer Programme\n"
   ]
  },
  {
   "cell_type": "markdown",
   "id": "95ff96ca-fea2-47cc-98c8-874780c7e941",
   "metadata": {},
   "source": [
    "Q11) Mention a few built in functions in python"
   ]
  },
  {
   "cell_type": "markdown",
   "id": "fb786830-50d8-47d5-bf29-66ce200f44fe",
   "metadata": {},
   "source": [
    "len() , type() , etc"
   ]
  },
  {
   "cell_type": "markdown",
   "id": "0d99e141-1532-4cae-ab73-4b394d15d4a3",
   "metadata": {},
   "source": [
    "Q12) What is the maximum possible length of an identifier in python ? "
   ]
  },
  {
   "cell_type": "markdown",
   "id": "85beb210-0866-4bdd-b99f-88e15a57a657",
   "metadata": {},
   "source": [
    "79 "
   ]
  },
  {
   "cell_type": "markdown",
   "id": "c51535fd-b40e-41bc-9285-69f8df76addb",
   "metadata": {},
   "source": [
    "Q13) What are benefits of using python?\n"
   ]
  },
  {
   "cell_type": "markdown",
   "id": "5e17d0b2-ad2c-4629-b332-c71b77e3a455",
   "metadata": {},
   "source": [
    "-> It is very flexible \n",
    "-> Used in many industries\n",
    "-> Simple and easy to learn"
   ]
  },
  {
   "cell_type": "markdown",
   "id": "860d5f3d-9d9b-44a9-a728-76b9feb54a0a",
   "metadata": {},
   "source": [
    "Q14) How is memory managed in python"
   ]
  },
  {
   "cell_type": "markdown",
   "id": "56e877ce-296d-4fa6-86d0-24331094a71a",
   "metadata": {},
   "source": [
    "Reference counting and garbage collector are the main components of memory manager of python\n",
    "if reference count reaches to zero then garbage collector is called to free up the memory."
   ]
  },
  {
   "cell_type": "markdown",
   "id": "59c04012-7759-483d-aa3e-3756cb4b82c9",
   "metadata": {},
   "source": [
    "Q15) How to install python on Windows and set path variables"
   ]
  },
  {
   "cell_type": "markdown",
   "id": "8231db35-a0dc-41ad-8847-d27b79d97141",
   "metadata": {},
   "source": [
    "pip install python or download executable \n",
    "For setting path variables: add location of installed python in new environmental variable so that access is given to any file system to access python"
   ]
  },
  {
   "cell_type": "markdown",
   "id": "fdbca172-dbbc-49c8-8a8d-c31ee7b53747",
   "metadata": {},
   "source": [
    "Q16) Is indentation required in python?"
   ]
  },
  {
   "cell_type": "markdown",
   "id": "c1182f61-50d3-4f22-948f-d1493d8d636c",
   "metadata": {},
   "source": [
    "Yes"
   ]
  },
  {
   "cell_type": "markdown",
   "id": "986d16db-ee2d-4633-9606-0b9ac8ae2afb",
   "metadata": {},
   "source": []
  }
 ],
 "metadata": {
  "kernelspec": {
   "display_name": "Python 3 (ipykernel)",
   "language": "python",
   "name": "python3"
  },
  "language_info": {
   "codemirror_mode": {
    "name": "ipython",
    "version": 3
   },
   "file_extension": ".py",
   "mimetype": "text/x-python",
   "name": "python",
   "nbconvert_exporter": "python",
   "pygments_lexer": "ipython3",
   "version": "3.10.8"
  }
 },
 "nbformat": 4,
 "nbformat_minor": 5
}
