{
 "cells": [
  {
   "cell_type": "markdown",
   "id": "32e9b19c-a1e7-44e2-be88-359a52058599",
   "metadata": {},
   "source": [
    "Q1) Explain class and object with respect to object oriented programming.Give a suitable example\n"
   ]
  },
  {
   "cell_type": "markdown",
   "id": "51ea3a11-22af-4ca1-b9bf-c80f72650e66",
   "metadata": {},
   "source": [
    "Answer : Classes are used for categorization of real entities in the real world. Classes are blueprint for objects and they are used to create objects"
   ]
  },
  {
   "cell_type": "code",
   "execution_count": 4,
   "id": "3eaff042-984d-4464-97d4-c10fccfbb4c2",
   "metadata": {},
   "outputs": [],
   "source": [
    "class MovieInfo:\n",
    "    def __init__(self, name, rating, collection):\n",
    "        self.movie_name = name\n",
    "        self.movie_rating = rating\n",
    "        self.net_collection = collection\n",
    "    def returnDetails(self):\n",
    "        return self.movie_name,self.movie_rating,self.net_collection\n",
    "## This is a class declaration\n",
    "    "
   ]
  },
  {
   "cell_type": "code",
   "execution_count": 5,
   "id": "402b8d3e-a5fb-4d50-a14f-755aa07c6bb4",
   "metadata": {},
   "outputs": [
    {
     "data": {
      "text/plain": [
       "('Animal', '3.5/5', '800 Cr')"
      ]
     },
     "execution_count": 5,
     "metadata": {},
     "output_type": "execute_result"
    }
   ],
   "source": [
    "movie = MovieInfo(\"Animal\",\"3.5/5\",\"800 Cr\")\n",
    "movie.returnDetails()\n"
   ]
  },
  {
   "cell_type": "markdown",
   "id": "cd673a98-590d-4cd1-b2da-a47d54cea141",
   "metadata": {},
   "source": [
    "Q2) Name the four pillars of OOPS\n"
   ]
  },
  {
   "cell_type": "markdown",
   "id": "cd3c063a-c58c-426f-a1fa-c12a78924032",
   "metadata": {},
   "source": [
    "1) Encapsulation\n",
    "2) Inheritance\n",
    "3) Polymorphism \n",
    "4) Abstraction"
   ]
  },
  {
   "cell_type": "markdown",
   "id": "ed8ce87b-87ac-48cb-9174-d4f05b5958af",
   "metadata": {},
   "source": [
    "Q3) Explain why the __init__() function is used.Give a suitable example\n"
   ]
  },
  {
   "cell_type": "markdown",
   "id": "ab870c97-9efb-4076-a28d-0b82d8e08b4e",
   "metadata": {},
   "source": [
    "__init__() function is used for the object creation using init function.It acts as a constructor for the class.\n"
   ]
  },
  {
   "cell_type": "markdown",
   "id": "7b940bc1-e9fb-4506-87fa-ad67d4eb8d4e",
   "metadata": {},
   "source": [
    "Q4) Why self is used in oops?"
   ]
  },
  {
   "cell_type": "markdown",
   "id": "50066f25-f694-49b3-a001-5b3efce36503",
   "metadata": {},
   "source": [
    "self keyword is used to access class attributes and methods"
   ]
  },
  {
   "cell_type": "markdown",
   "id": "ebd7598e-5ff4-450e-8d79-22ad2a8ebff6",
   "metadata": {},
   "source": [
    "Q5) What is inheritance? Give an example for each type of inheritance"
   ]
  },
  {
   "cell_type": "markdown",
   "id": "570228d3-422d-4d91-9cdd-b67954637d49",
   "metadata": {},
   "source": [
    "There are mainly five types of inheritance in python\n",
    "1) Single level Inheritance\n",
    "2) Multilevel Inheritance\n",
    "3) Multiple Inheritance\n",
    "4) Hierarchial Inheritance\n",
    "5) "
   ]
  }
 ],
 "metadata": {
  "kernelspec": {
   "display_name": "Python 3 (ipykernel)",
   "language": "python",
   "name": "python3"
  },
  "language_info": {
   "codemirror_mode": {
    "name": "ipython",
    "version": 3
   },
   "file_extension": ".py",
   "mimetype": "text/x-python",
   "name": "python",
   "nbconvert_exporter": "python",
   "pygments_lexer": "ipython3",
   "version": "3.10.8"
  }
 },
 "nbformat": 4,
 "nbformat_minor": 5
}
