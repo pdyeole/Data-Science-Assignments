{
 "cells": [
  {
   "cell_type": "markdown",
   "id": "c56a39d0-d724-42d5-80bb-79794f72f175",
   "metadata": {},
   "source": [
    "Q1) Create a function which will take a list as an argument and return the product of all numbers after creating a flat list. Use the below-given list as an argument for your function "
   ]
  },
  {
   "cell_type": "code",
   "execution_count": 1,
   "id": "cf935103-224b-4dad-8453-3abe8aa0eacd",
   "metadata": {},
   "outputs": [],
   "source": [
    "list1 = [1,2,3,4,[44,55,66,True],False,(34,56,78,89,34),{1,2,3,3,2,1},{1:34,\"key2\":[55,67,78,89],4:(45,22,61,34)},[56,'data science'],'Machine Learning']"
   ]
  },
  {
   "cell_type": "code",
   "execution_count": 62,
   "id": "1a4dc129-63e5-4dd8-b5d1-8b29a6a60e9c",
   "metadata": {},
   "outputs": [],
   "source": [
    "def calcproduct(li):\n",
    "    prod = 1\n",
    "    for i in li:\n",
    "        if type(i)==int:\n",
    "            prod *= i\n",
    "        elif (type(i)==list) | (type(i)==set) | (type(i)==tuple) :\n",
    "            prod *= calcproduct(i)\n",
    "        elif (type(i) == dict):\n",
    "            prod *= (calcproduct(i.keys())* calcproduct(i.values()))\n",
    "    return prod"
   ]
  },
  {
   "cell_type": "markdown",
   "id": "d2b49669-95aa-4344-8793-31b541a9378d",
   "metadata": {},
   "source": [
    "Q2) Write a python program for encrypting a message sent to you by your friend. The logic of encryption should be such that, for a the output should be z.For b  output should be y. For c, the output should be x respectively.Also, the whitespace should be replaced with a dollar sign.Keep the puncutation mark unchanged"
   ]
  },
  {
   "cell_type": "code",
   "execution_count": 74,
   "id": "403dcf2c-6de3-441f-9704-9912d7fde868",
   "metadata": {},
   "outputs": [],
   "source": [
    "def encryptSent(s):\n",
    "    ans = \"\"\n",
    "    for i in s:\n",
    "        if (ord(i)>=65) & (ord(i)<=90):\n",
    "            ans += chr(155-ord(i))\n",
    "        elif (ord(i)>=97) & (ord(i)<=122):\n",
    "            ans += chr(219-ord(i))\n",
    "        elif i==\" \":\n",
    "            ans+=\"$\"\n",
    "        else:\n",
    "            ans += i\n",
    "    return ans"
   ]
  },
  {
   "cell_type": "code",
   "execution_count": 77,
   "id": "d112af58-8b06-4786-a6bd-ee83f3e5bfd9",
   "metadata": {},
   "outputs": [],
   "source": [
    "s = \"I want to become a Data Scientist\""
   ]
  },
  {
   "cell_type": "code",
   "execution_count": 78,
   "id": "3227dce0-b10f-4627-8ad0-0b6cda5e29c9",
   "metadata": {},
   "outputs": [
    {
     "data": {
      "text/plain": [
       "'R$dzmg$gl$yvxlnv$z$Wzgz$Hxrvmgrhg'"
      ]
     },
     "execution_count": 78,
     "metadata": {},
     "output_type": "execute_result"
    }
   ],
   "source": [
    "encryptSent(s)"
   ]
  },
  {
   "cell_type": "code",
   "execution_count": null,
   "id": "76e052fa-92df-42cb-8e87-7b49205e031c",
   "metadata": {},
   "outputs": [],
   "source": []
  }
 ],
 "metadata": {
  "kernelspec": {
   "display_name": "Python 3 (ipykernel)",
   "language": "python",
   "name": "python3"
  },
  "language_info": {
   "codemirror_mode": {
    "name": "ipython",
    "version": 3
   },
   "file_extension": ".py",
   "mimetype": "text/x-python",
   "name": "python",
   "nbconvert_exporter": "python",
   "pygments_lexer": "ipython3",
   "version": "3.10.8"
  }
 },
 "nbformat": 4,
 "nbformat_minor": 5
}
